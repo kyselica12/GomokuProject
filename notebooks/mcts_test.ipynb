{
 "cells": [
  {
   "cell_type": "markdown",
   "metadata": {
    "collapsed": true,
    "pycharm": {
     "name": "#%% md\n"
    }
   },
   "source": [
    "# <font color=\"orange\">MCTS test</font>\n",
    "\n",
    "Monte Carlo tree search will be tested on small example without neural net\n",
    "\n",
    "- Instead neural net, Dummy model will be used\n",
    "- Game size $4 \\times 4$\n",
    "- Leght of winning sequence is $3$"
   ]
  },
  {
   "cell_type": "code",
   "execution_count": 1,
   "outputs": [],
   "source": [
    "from game import Game, GameState\n",
    "from model import DummyModel\n",
    "from mcts import MCTS\n",
    "\n",
    "import numpy as np"
   ],
   "metadata": {
    "collapsed": false,
    "pycharm": {
     "name": "#%%\n"
    }
   }
  },
  {
   "cell_type": "code",
   "execution_count": 2,
   "outputs": [],
   "source": [
    "size = 4\n",
    "win_sequence_len = 3\n",
    "\n",
    "game = Game(size=size, win_size=win_sequence_len)\n",
    "model = DummyModel(size=size)"
   ],
   "metadata": {
    "collapsed": false,
    "pycharm": {
     "name": "#%%\n"
    }
   }
  },
  {
   "cell_type": "code",
   "execution_count": 3,
   "outputs": [],
   "source": [
    "mcts = MCTS(model=model, game=game, discount=0)"
   ],
   "metadata": {
    "collapsed": false,
    "pycharm": {
     "name": "#%%\n"
    }
   }
  },
  {
   "cell_type": "code",
   "execution_count": 4,
   "outputs": [],
   "source": [
    "state = game.get_new_state()"
   ],
   "metadata": {
    "collapsed": false,
    "pycharm": {
     "name": "#%%\n"
    }
   }
  },
  {
   "cell_type": "code",
   "execution_count": 5,
   "outputs": [],
   "source": [
    "def get_mcts_move(state):\n",
    "    node = mcts.run(state, num_simulations=50)\n",
    "    return max(node.children, key=lambda m: (node.children[m].visit_count, m))"
   ],
   "metadata": {
    "collapsed": false,
    "pycharm": {
     "name": "#%%\n"
    }
   }
  },
  {
   "cell_type": "code",
   "execution_count": 6,
   "outputs": [
    {
     "data": {
      "text/plain": "(1, 2)"
     },
     "execution_count": 6,
     "metadata": {},
     "output_type": "execute_result"
    }
   ],
   "source": [
    "get_mcts_move(state)\n"
   ],
   "metadata": {
    "collapsed": false,
    "pycharm": {
     "name": "#%%\n"
    }
   }
  },
  {
   "cell_type": "code",
   "execution_count": 11,
   "outputs": [
    {
     "name": "stdout",
     "output_type": "stream",
     "text": [
      "+---+---+---+---+---+\n",
      "|   | 1 | 2 | 3 | 4 |\n",
      "+---+---+---+---+---+\n",
      "| 1 |   |   |   |   |\n",
      "| 2 |   |   |   |   |\n",
      "| 3 |   |   |   |   |\n",
      "| 4 |   | X |   |   |\n",
      "+---+---+---+---+---+\n",
      "+---+---+---+---+---+\n",
      "|   | 1 | 2 | 3 | 4 |\n",
      "+---+---+---+---+---+\n",
      "| 1 |   |   |   |   |\n",
      "| 2 |   |   |   |   |\n",
      "| 3 |   |   |   |   |\n",
      "| 4 |   | X | O |   |\n",
      "+---+---+---+---+---+\n",
      "+---+---+---+---+---+\n",
      "|   | 1 | 2 | 3 | 4 |\n",
      "+---+---+---+---+---+\n",
      "| 1 |   |   |   |   |\n",
      "| 2 |   | X |   |   |\n",
      "| 3 |   |   |   |   |\n",
      "| 4 |   | X | O |   |\n",
      "+---+---+---+---+---+\n",
      "+---+---+---+---+---+\n",
      "|   | 1 | 2 | 3 | 4 |\n",
      "+---+---+---+---+---+\n",
      "| 1 |   |   |   |   |\n",
      "| 2 |   | X |   |   |\n",
      "| 3 |   | O |   |   |\n",
      "| 4 |   | X | O |   |\n",
      "+---+---+---+---+---+\n",
      "+---+---+---+---+---+\n",
      "|   | 1 | 2 | 3 | 4 |\n",
      "+---+---+---+---+---+\n",
      "| 1 |   |   |   |   |\n",
      "| 2 | X | X |   |   |\n",
      "| 3 |   | O |   |   |\n",
      "| 4 |   | X | O |   |\n",
      "+---+---+---+---+---+\n",
      "+---+---+---+---+---+\n",
      "|   | 1 | 2 | 3 | 4 |\n",
      "+---+---+---+---+---+\n",
      "| 1 |   |   |   |   |\n",
      "| 2 | X | X | O |   |\n",
      "| 3 |   | O |   |   |\n",
      "| 4 |   | X | O |   |\n",
      "+---+---+---+---+---+\n",
      "+---+---+---+---+---+\n",
      "|   | 1 | 2 | 3 | 4 |\n",
      "+---+---+---+---+---+\n",
      "| 1 |   |   |   |   |\n",
      "| 2 | X | X | O |   |\n",
      "| 3 |   | O | X |   |\n",
      "| 4 |   | X | O |   |\n",
      "+---+---+---+---+---+\n",
      "+---+---+---+---+---+\n",
      "|   | 1 | 2 | 3 | 4 |\n",
      "+---+---+---+---+---+\n",
      "| 1 | O |   |   |   |\n",
      "| 2 | X | X | O |   |\n",
      "| 3 |   | O | X |   |\n",
      "| 4 |   | X | O |   |\n",
      "+---+---+---+---+---+\n",
      "+---+---+---+---+---+\n",
      "|   | 1 | 2 | 3 | 4 |\n",
      "+---+---+---+---+---+\n",
      "| 1 | O |   |   |   |\n",
      "| 2 | X | X | O |   |\n",
      "| 3 |   | O | X |   |\n",
      "| 4 |   | X | O | X |\n",
      "+---+---+---+---+---+\n"
     ]
    }
   ],
   "source": [
    "state = game.get_new_state()\n",
    "\n",
    "while not state.terminal:\n",
    "   node = mcts.run(state, num_simulations=550)\n",
    "   move = max(node.children, key=lambda m: (node.children[m].visit_count, m))\n",
    "   state = game.move(state, move)\n",
    "   print(state)"
   ],
   "metadata": {
    "collapsed": false,
    "pycharm": {
     "name": "#%%\n"
    }
   }
  },
  {
   "cell_type": "code",
   "execution_count": 7,
   "outputs": [],
   "source": [],
   "metadata": {
    "collapsed": false,
    "pycharm": {
     "name": "#%%\n"
    }
   }
  }
 ],
 "metadata": {
  "kernelspec": {
   "display_name": "Python 3",
   "language": "python",
   "name": "python3"
  },
  "language_info": {
   "codemirror_mode": {
    "name": "ipython",
    "version": 2
   },
   "file_extension": ".py",
   "mimetype": "text/x-python",
   "name": "python",
   "nbconvert_exporter": "python",
   "pygments_lexer": "ipython2",
   "version": "2.7.6"
  }
 },
 "nbformat": 4,
 "nbformat_minor": 0
}