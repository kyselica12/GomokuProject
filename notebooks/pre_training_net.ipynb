{
 "cells": [
  {
   "cell_type": "markdown",
   "metadata": {
    "collapsed": true,
    "pycharm": {
     "name": "#%% md\n"
    }
   },
   "source": [
    "# <font color=\"orange\">Pre training network </font>"
   ],
   "outputs": [],
   "execution_count": 1
  },
  {
   "cell_type": "code",
   "execution_count": 1,
   "outputs": [],
   "source": [
    "import numpy as np\n",
    "import torch\n",
    "from nn.dataset import TrainingDataLoader\n",
    "from nn.betazero import BetaZero, BetaZeroConfig\n",
    "from nn.nn_wraper import NetWrapper"
   ],
   "metadata": {
    "collapsed": false,
    "pycharm": {
     "name": "#%%\n"
    }
   }
  },
  {
   "cell_type": "code",
   "execution_count": 2,
   "outputs": [],
   "source": [
    "conf = BetaZeroConfig(board_size=20,\n",
    "                      num_states=1,\n",
    "                      num_res_layers=10,\n",
    "                      hidden_dim=128,\n",
    "                      input_cov_size=64,\n",
    "                      output_cov_size=64)\n",
    "wrapper = NetWrapper(conf)"
   ],
   "metadata": {
    "collapsed": false,
    "pycharm": {
     "name": "#%%\n"
    }
   }
  },
  {
   "cell_type": "code",
   "execution_count": 3,
   "outputs": [],
   "source": [
    "data = TrainingDataLoader(20, batch_size=3)"
   ],
   "metadata": {
    "collapsed": false,
    "pycharm": {
     "name": "#%%\n"
    }
   }
  },
  {
   "cell_type": "code",
   "execution_count": 4,
   "outputs": [
    {
     "name": "stdout",
     "output_type": "stream",
     "text": [
      "C:\\Users\\user\\Documents\\GomokuProject\\resources/games_20x20\\games_2019_D.json\n",
      "C:\\Users\\user\\Documents\\GomokuProject\\resources/games_20x20\\games_2019_X.json\n",
      "C:\\Users\\user\\Documents\\GomokuProject\\resources/games_20x20\\games_2020_D.json\n",
      "C:\\Users\\user\\Documents\\GomokuProject\\resources/games_20x20\\games_2020_X.json\n"
     ]
    }
   ],
   "source": [
    "data.load()"
   ],
   "metadata": {
    "collapsed": false,
    "pycharm": {
     "name": "#%%\n"
    }
   }
  },
  {
   "cell_type": "code",
   "source": [
    "wrapper.train(data, batch_size=2, n_iters=100, loss_visual_step=5)"
   ],
   "metadata": {
    "collapsed": false,
    "pycharm": {
     "name": "#%%\n"
    }
   },
   "execution_count": 5,
   "outputs": [
    {
     "name": "stdout",
     "output_type": "stream",
     "text": [
      "5 loss: 237.120\n",
      "10 loss: 231.828\n",
      "15 loss: 226.793\n",
      "20 loss: 224.404\n",
      "25 loss: 224.236\n",
      "30 loss: 227.550\n",
      "35 loss: 222.857\n",
      "40 loss: 226.679\n",
      "45 loss: 221.293\n",
      "50 loss: 224.337\n",
      "55 loss: 219.908\n",
      "60 loss: 222.658\n",
      "65 loss: 219.824\n",
      "70 loss: 220.880\n",
      "75 loss: 222.340\n",
      "80 loss: 212.708\n",
      "85 loss: 223.797\n",
      "90 loss: 215.117\n",
      "95 loss: 220.106\n",
      "100 loss: 219.714\n"
     ]
    },
    {
     "data": {
      "text/plain": "223.20732192993165"
     },
     "execution_count": 5,
     "metadata": {},
     "output_type": "execute_result"
    }
   ]
  },
  {
   "cell_type": "code",
   "execution_count": 5,
   "outputs": [
    {
     "name": "stdout",
     "output_type": "stream",
     "text": [
      "-----------------------\n",
      "          1\n",
      "10 loss: 229.525\n",
      "20 loss: 233.458\n",
      "30 loss: 227.087\n",
      "40 loss: 230.533\n",
      "50 loss: 229.199\n",
      "60 loss: 224.606\n",
      "70 loss: 221.526\n",
      "80 loss: 221.884\n",
      "90 loss: 222.374\n",
      "100 loss: 219.803\n",
      "-----------------------\n",
      "          3\n",
      "10 loss: 226.779\n",
      "20 loss: 231.084\n",
      "30 loss: 225.801\n",
      "40 loss: 226.884\n",
      "50 loss: 224.639\n",
      "60 loss: 223.542\n",
      "70 loss: 222.360\n",
      "80 loss: 227.141\n",
      "90 loss: 227.583\n",
      "100 loss: 225.554\n",
      "-----------------------\n",
      "          5\n",
      "10 loss: 232.522\n",
      "20 loss: 230.698\n",
      "30 loss: 230.733\n",
      "40 loss: 229.436\n",
      "50 loss: 227.055\n",
      "60 loss: 225.913\n",
      "70 loss: 229.294\n",
      "80 loss: 224.381\n",
      "90 loss: 221.747\n",
      "100 loss: 221.865\n",
      "-----------------------\n",
      "          10\n",
      "10 loss: 232.996\n",
      "20 loss: 233.918\n",
      "30 loss: 226.903\n",
      "40 loss: 229.141\n",
      "50 loss: 224.156\n",
      "60 loss: 220.416\n",
      "70 loss: 223.875\n",
      "80 loss: 224.624\n",
      "90 loss: 221.817\n",
      "100 loss: 220.432\n",
      "-----------------------\n",
      "          15\n",
      "10 loss: 234.313\n",
      "20 loss: 230.236\n",
      "30 loss: 229.038\n",
      "40 loss: 226.522\n",
      "50 loss: 226.753\n",
      "60 loss: 222.788\n",
      "70 loss: 223.272\n",
      "80 loss: 218.807\n",
      "90 loss: 223.015\n",
      "100 loss: 221.534\n",
      "-----------------------\n",
      "          20\n",
      "10 loss: 232.985\n",
      "20 loss: 226.440\n",
      "30 loss: 226.849\n",
      "40 loss: 226.437\n",
      "50 loss: 224.347\n",
      "60 loss: 220.891\n",
      "70 loss: 224.195\n",
      "80 loss: 226.319\n",
      "90 loss: 223.483\n",
      "100 loss: 224.679\n"
     ]
    }
   ],
   "source": [
    "conf = BetaZeroConfig(board_size=20,\n",
    "                      num_states=1,\n",
    "                      num_res_layers=10,\n",
    "                      hidden_dim=128,\n",
    "                      input_cov_size=64,\n",
    "                      output_cov_size=64)\n",
    "\n",
    "for res_layers in [1,3,5,10,15,20]:\n",
    "    print(\"-----------------------\")\n",
    "    print(f\"          {res_layers}\")\n",
    "    conf.num_res_layers = res_layers\n",
    "    wrapper = NetWrapper(conf)\n",
    "    wrapper.train(data, batch_size=2, n_iters=100, loss_visual_step=10)"
   ],
   "metadata": {
    "collapsed": false,
    "pycharm": {
     "name": "#%%\n"
    }
   }
  },
  {
   "cell_type": "code",
   "execution_count": null,
   "outputs": [],
   "source": [],
   "metadata": {
    "collapsed": false,
    "pycharm": {
     "name": "#%%\n"
    }
   }
  }
 ],
 "metadata": {
  "kernelspec": {
   "display_name": "Python 3",
   "language": "python",
   "name": "python3"
  },
  "language_info": {
   "codemirror_mode": {
    "name": "ipython",
    "version": 2
   },
   "file_extension": ".py",
   "mimetype": "text/x-python",
   "name": "python",
   "nbconvert_exporter": "python",
   "pygments_lexer": "ipython2",
   "version": "2.7.6"
  }
 },
 "nbformat": 4,
 "nbformat_minor": 0
}